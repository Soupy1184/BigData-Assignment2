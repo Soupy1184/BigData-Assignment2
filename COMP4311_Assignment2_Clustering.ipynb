{
  "nbformat": 4,
  "nbformat_minor": 0,
  "metadata": {
    "colab": {
      "name": "COMP4311-Assignment2 - Clustering.ipynb",
      "provenance": [],
      "toc_visible": true,
      "mount_file_id": "1mXFkWNwzqZ2DMkb98DUO2wmNfHo4ML2I",
      "authorship_tag": "ABX9TyN0kfsBNB5LsYBxjGiqJsoa",
      "include_colab_link": true
    },
    "kernelspec": {
      "name": "python3",
      "display_name": "Python 3"
    }
  },
  "cells": [
    {
      "cell_type": "markdown",
      "metadata": {
        "id": "view-in-github",
        "colab_type": "text"
      },
      "source": [
        "<a href=\"https://colab.research.google.com/github/Soupy1184/BigData-Assignment2/blob/master/COMP4311_Assignment2_Clustering.ipynb\" target=\"_parent\"><img src=\"https://colab.research.google.com/assets/colab-badge.svg\" alt=\"Open In Colab\"/></a>"
      ]
    },
    {
      "cell_type": "code",
      "metadata": {
        "id": "pXYm1DqqeWvH"
      },
      "source": [
        "import pandas as pd\n",
        "import numpy as np"
      ],
      "execution_count": 152,
      "outputs": []
    },
    {
      "cell_type": "markdown",
      "metadata": {
        "id": "7hpOJ5rfKpJr"
      },
      "source": [
        "Question #1: CLUSTERING"
      ]
    },
    {
      "cell_type": "code",
      "metadata": {
        "colab": {
          "base_uri": "https://localhost:8080/"
        },
        "id": "92Hg1A9G3pdk",
        "outputId": "5e860f20-ef87-4eac-8702-21cf98abba3c"
      },
      "source": [
        "k = int(input(\"Enter value of k: \"))\n",
        "path = input(\"Enter path to data file\")"
      ],
      "execution_count": 153,
      "outputs": [
        {
          "output_type": "stream",
          "text": [
            "Enter value of k: 3\n",
            "Enter path to data file/content/drive/MyDrive/Colab Notebooks/COMP-4311/Assignment2/data.csv\n"
          ],
          "name": "stdout"
        }
      ]
    },
    {
      "cell_type": "code",
      "metadata": {
        "id": "q5owKIII2PMq"
      },
      "source": [
        "data = pd.read_csv(path)"
      ],
      "execution_count": 154,
      "outputs": []
    },
    {
      "cell_type": "code",
      "metadata": {
        "id": "U3j7b6u8T6am"
      },
      "source": [
        "import math\n",
        "\n",
        "def euclidDis(a, b):\n",
        "  sum = 0\n",
        "  for x, y in zip(a, b):\n",
        "      sum += (x - y)**2\n",
        "      \n",
        "  return math.sqrt(sum)"
      ],
      "execution_count": 155,
      "outputs": []
    },
    {
      "cell_type": "code",
      "metadata": {
        "id": "8eA2H3Na4o9_"
      },
      "source": [
        "from pandas import DataFrame\n",
        "\n",
        "def kMeansClustering(df, k):\n",
        "  currentClusters = []\n",
        "  for round in range(0, 100):\n",
        "    print(\"Round: \", round)\n",
        "    # each round resets centroids to empty array\n",
        "    centroids = []\n",
        "    #the first round initializes centroids to 3 random samples\n",
        "    if round == 0:\n",
        "      centroids = df.sample(n = k)\n",
        "    else:\n",
        "      # for k number of centroids\n",
        "      for cent in range(0, k):\n",
        "        currentCentroid = df.loc[(df['Cluster_Id'] == (cent+1))]\n",
        "        #create new centroids\n",
        "        # gets the mean of each column and creates a new centroid\n",
        "        meanValues = []\n",
        "        for column in range(0, len(data.columns)-1):\n",
        "          meanValues.append(currentCentroid.iloc[:,column].mean())\n",
        "        meanValues.append(cent+1)\n",
        "        centroids.append(meanValues)\n",
        "      \n",
        "      centroids = DataFrame(centroids,columns=[list(df.columns)])\n",
        "    \n",
        "    #calculate distance\n",
        "    #for each instance \n",
        "    cluster_id = []\n",
        "    for x in range(0, len(df)):\n",
        "      distance = []\n",
        "      row = df.iloc[x, 0:(len(df.columns)-1)].values\n",
        "      #for each centroid check which has min distance\n",
        "      for i in range(0, len(centroids)):\n",
        "        centroid = centroids.iloc[i, 0:(len(df.columns)-1)].values\n",
        "        #for each test instance, calculate distance from each centroid\n",
        "        #assign cluster ID to min distance\n",
        "        distance.append(euclidDis(row, centroid))\n",
        "\n",
        "      #assign cluster id\n",
        "      cluster_id.append(distance.index(min(distance)) + 1)\n",
        "   \n",
        "    \n",
        "    #assign cluster array to dataset\n",
        "    df['Cluster_Id'] = DataFrame(cluster_id)\n",
        "\n",
        "    if np.array_equal(cluster_id, currentClusters):\n",
        "      return df\n",
        "    else:\n",
        "      currentClusters = cluster_id    "
      ],
      "execution_count": 156,
      "outputs": []
    },
    {
      "cell_type": "code",
      "metadata": {
        "colab": {
          "base_uri": "https://localhost:8080/",
          "height": 493
        },
        "id": "ExnWN_rp5S3a",
        "outputId": "6e814380-e2f1-4ca1-9d0b-46738fbf8849"
      },
      "source": [
        "clustered_data = kMeansClustering(data, k)\n",
        "\n",
        "clustered_data.head()"
      ],
      "execution_count": 157,
      "outputs": [
        {
          "output_type": "stream",
          "text": [
            "Round:  0\n",
            "Round:  1\n",
            "Round:  2\n",
            "Round:  3\n",
            "Round:  4\n",
            "Round:  5\n",
            "Round:  6\n",
            "Round:  7\n",
            "Round:  8\n",
            "Round:  9\n",
            "Round:  10\n",
            "Round:  11\n",
            "Round:  12\n",
            "Round:  13\n",
            "Round:  14\n",
            "Round:  15\n",
            "Round:  16\n"
          ],
          "name": "stdout"
        },
        {
          "output_type": "execute_result",
          "data": {
            "text/html": [
              "<div>\n",
              "<style scoped>\n",
              "    .dataframe tbody tr th:only-of-type {\n",
              "        vertical-align: middle;\n",
              "    }\n",
              "\n",
              "    .dataframe tbody tr th {\n",
              "        vertical-align: top;\n",
              "    }\n",
              "\n",
              "    .dataframe thead th {\n",
              "        text-align: right;\n",
              "    }\n",
              "</style>\n",
              "<table border=\"1\" class=\"dataframe\">\n",
              "  <thead>\n",
              "    <tr style=\"text-align: right;\">\n",
              "      <th></th>\n",
              "      <th>X1</th>\n",
              "      <th>X2</th>\n",
              "      <th>X3</th>\n",
              "      <th>X4</th>\n",
              "      <th>Cluster_Id</th>\n",
              "    </tr>\n",
              "  </thead>\n",
              "  <tbody>\n",
              "    <tr>\n",
              "      <th>0</th>\n",
              "      <td>-0.59</td>\n",
              "      <td>-0.76</td>\n",
              "      <td>-1.80</td>\n",
              "      <td>-1.05</td>\n",
              "      <td>2</td>\n",
              "    </tr>\n",
              "    <tr>\n",
              "      <th>1</th>\n",
              "      <td>0.59</td>\n",
              "      <td>0.76</td>\n",
              "      <td>1.80</td>\n",
              "      <td>1.05</td>\n",
              "      <td>1</td>\n",
              "    </tr>\n",
              "    <tr>\n",
              "      <th>2</th>\n",
              "      <td>0.70</td>\n",
              "      <td>0.49</td>\n",
              "      <td>1.03</td>\n",
              "      <td>0.74</td>\n",
              "      <td>1</td>\n",
              "    </tr>\n",
              "    <tr>\n",
              "      <th>3</th>\n",
              "      <td>-0.70</td>\n",
              "      <td>-0.49</td>\n",
              "      <td>-1.03</td>\n",
              "      <td>-0.74</td>\n",
              "      <td>2</td>\n",
              "    </tr>\n",
              "    <tr>\n",
              "      <th>4</th>\n",
              "      <td>-0.11</td>\n",
              "      <td>0.96</td>\n",
              "      <td>0.65</td>\n",
              "      <td>0.50</td>\n",
              "      <td>1</td>\n",
              "    </tr>\n",
              "  </tbody>\n",
              "</table>\n",
              "</div>"
            ],
            "text/plain": [
              "     X1    X2    X3    X4  Cluster_Id\n",
              "0 -0.59 -0.76 -1.80 -1.05           2\n",
              "1  0.59  0.76  1.80  1.05           1\n",
              "2  0.70  0.49  1.03  0.74           1\n",
              "3 -0.70 -0.49 -1.03 -0.74           2\n",
              "4 -0.11  0.96  0.65  0.50           1"
            ]
          },
          "metadata": {
            "tags": []
          },
          "execution_count": 157
        }
      ]
    },
    {
      "cell_type": "code",
      "metadata": {
        "id": "P2jod66Pc3ue"
      },
      "source": [
        "clustered_data.to_csv('/content/drive/MyDrive/Colab Notebooks/COMP-4311/Assignment2/clustered_data.csv')"
      ],
      "execution_count": 426,
      "outputs": []
    },
    {
      "cell_type": "code",
      "metadata": {
        "id": "Cuan8TUSdmC_"
      },
      "source": [
        "import pandas as pd\n",
        "import numpy as np\n",
        "from pandas import DataFrame"
      ],
      "execution_count": null,
      "outputs": []
    },
    {
      "cell_type": "markdown",
      "metadata": {
        "id": "YVn4wmhhKtL1"
      },
      "source": [
        "Question #2: NAIVE BAYES"
      ]
    },
    {
      "cell_type": "code",
      "metadata": {
        "colab": {
          "base_uri": "https://localhost:8080/"
        },
        "id": "yqkLOKLeaRIJ",
        "outputId": "ce5ca4fa-9166-4fb2-dabe-b7427ef3473b"
      },
      "source": [
        "trainPath = input(\"Enter path to train data file\")\n",
        "testPath = input(\"Enter path to test data file\")\n",
        "\n",
        "# /content/drive/MyDrive/Colab Notebooks/COMP-4311/Assignment2/Train.csv\n",
        "# /content/drive/MyDrive/Colab Notebooks/COMP-4311/Assignment2/Test.csv"
      ],
      "execution_count": null,
      "outputs": [
        {
          "output_type": "stream",
          "text": [
            "Enter path to train data file/content/drive/MyDrive/Colab Notebooks/COMP-4311/Assignment2/Train.csv\n",
            "Enter path to test data file/content/drive/MyDrive/Colab Notebooks/COMP-4311/Assignment2/Test.csv\n"
          ],
          "name": "stdout"
        }
      ]
    },
    {
      "cell_type": "code",
      "metadata": {
        "id": "APwUySVLM7oI"
      },
      "source": [
        "train = pd.read_csv(trainPath)\n",
        "test = pd.read_csv(testPath)"
      ],
      "execution_count": null,
      "outputs": []
    },
    {
      "cell_type": "code",
      "metadata": {
        "id": "go-xQr0tS49v"
      },
      "source": [
        "#resource: https://www.geeksforgeeks.org/python-multiply-numbers-list-3-different-ways/\n",
        "#multiplies the elements of a list together\n",
        "\n",
        "def multiplyList(myList) :\n",
        "     \n",
        "    # Multiply elements one by one\n",
        "    result = 1\n",
        "    for x in myList:\n",
        "         result = result * x\n",
        "    return result"
      ],
      "execution_count": null,
      "outputs": []
    },
    {
      "cell_type": "code",
      "metadata": {
        "id": "2w6LGrEvDpEm"
      },
      "source": [
        "def naiveBayes(dfTrain, dfTest):\n",
        "  # create column names list\n",
        "  trainNames = list(dfTrain.columns)\n",
        "  testNames = list(dfTest.columns)\n",
        "\n",
        "  # For prior, your program will find the number of unique values in the last column - that's the number of classes.\n",
        "  classes = dfTrain[trainNames[len(dfTrain.columns)-1]].unique()\n",
        "\n",
        "  # For each class estimate and store priors. \n",
        "  priorProbability = []\n",
        "  for x in range(0, len(classes)):\n",
        "    priorProbability.append(len(dfTrain.loc[(dfTrain[trainNames[len(dfTrain.columns)-1]] == classes[x])]) / len(dfTrain))\n",
        "    \n",
        "  priors = DataFrame(priorProbability,index=classes, columns=['Prior'])\n",
        "\n",
        "  # For likelihoods, it will do the same - for each feature, find unique values and \n",
        "  # for each unique value find the frequency for each class and then estimate likelihood. \n",
        "  # likelihood = P(B|A)\n",
        "  # for each feature\n",
        "  likelihoods = []\n",
        "  for i in range(0, len(trainNames)-1):\n",
        "    # for each unique value in the column\n",
        "    uniqueValues = dfTrain[trainNames[i]].unique() \n",
        "    for j in range (0, len(dfTrain[trainNames[i]].unique())):\n",
        "      probability = []\n",
        "      total = len(dfTrain.loc[(dfTrain[trainNames[i]] == uniqueValues[j])])\n",
        "      probability.append(uniqueValues[j])\n",
        "      for x in range(0, len(classes)):\n",
        "        probability.append(len(dfTrain.loc[(dfTrain[trainNames[i]] == uniqueValues[j]) & (dfTrain[trainNames[len(dfTrain.columns)-1]] == classes[x])]) / total)\n",
        "      likelihoods.append(probability)\n",
        "\n",
        "  #list of column names\n",
        "  col = []\n",
        "  col.append('UniqueValue')\n",
        "  for x in classes:\n",
        "    col.append(x)\n",
        "\n",
        "  #create table of likelihoods\n",
        "  table = DataFrame(likelihoods, columns=col)\n",
        "  \n",
        "  # For each test instance, you find the matching features and \n",
        "  # class and get the prior and likelihood to calculate posterior.\n",
        "  right = 0\n",
        "  wrong = 0\n",
        "\n",
        "  for y in range(0, len(dfTest)):\n",
        "    row = dfTest.loc[y]\n",
        "    for c in classes:\n",
        "      result = []\n",
        "      multiply = []\n",
        "      multiply.append(priors.loc[c, 'Prior'])\n",
        "      for x in range(0, len(trainNames)-1):\n",
        "        value = table.loc[(row[trainNames[x]] == table['UniqueValue'])]\n",
        "        multiply.append(value.iloc[0][c])\n",
        "      result.append(multiplyList(multiply))\n",
        "\n",
        "    index = result.index(max(result))\n",
        "    predClass = classes[index]\n",
        "\n",
        "    if predClass == row.loc[testNames[len(testNames) - 1]]:\n",
        "      #true positive or true negative\n",
        "      right += 1\n",
        "    else:\n",
        "      #false positive or false negative\n",
        "      wrong += 1\n",
        "\n",
        "  total = right+wrong\n",
        "  accuracy = right / total\n",
        "  #algorithm here\n",
        "  print(\"The accuracy is: \", accuracy)\n",
        "  return"
      ],
      "execution_count": null,
      "outputs": []
    },
    {
      "cell_type": "code",
      "metadata": {
        "colab": {
          "base_uri": "https://localhost:8080/"
        },
        "id": "JZmKhsNWct3w",
        "outputId": "c1536be3-c678-4b5a-9ba6-f406a0faf4fb"
      },
      "source": [
        "naiveBayes(train, test)"
      ],
      "execution_count": null,
      "outputs": [
        {
          "output_type": "stream",
          "text": [
            "The accuracy is:  0.5\n"
          ],
          "name": "stdout"
        }
      ]
    }
  ]
}